{
 "cells": [
  {
   "cell_type": "code",
   "execution_count": null,
   "metadata": {
    "cellView": "form",
    "id": "vtON700qokuQ"
   },
   "outputs": [],
   "source": [
    "# @title **Install Applio**\n",
    "\n",
    "import codecs\n",
    "import time\n",
    "\n",
    "orig_name_of_program = codecs.decode(\"Nccyvb\", \"rot_13\")\n",
    "new_name_of_program = codecs.decode(\"cebtenz\", \"rot_13\")\n",
    "uioawhd = codecs.decode(\"uggcf://tvguho.pbz/VNUvfcnab/Nccyvb.tvg\", \"rot_13\")\n",
    "uyadwa = codecs.decode(\"ncc.cl\", \"rot_13\")\n",
    "\n",
    "from IPython.display import clear_output, Javascript\n",
    "\n",
    "!git clone --depth 1 $uioawhd\n",
    "!mv $orig_name_of_program $new_name_of_program\n",
    "%cd $new_name_of_program/\n",
    "\n",
    "clear_output()\n",
    "file_path = \"requirements.txt\"\n",
    "!pip install -r \"requirements.txt\" --quiet\n",
    "\n",
    "clear_output()\n",
    "print(\"Finished installing requirements!\")"
   ]
  },
  {
   "cell_type": "code",
   "execution_count": null,
   "metadata": {
    "cellView": "form",
    "id": "-7cQtXouqpQi"
   },
   "outputs": [],
   "source": [
    "# @title **Start Applio**\n",
    "import codecs\n",
    "\n",
    "uyadwa = codecs.decode(\"ncc.cl\", \"rot_13\")\n",
    "\n",
    "%load_ext tensorboard\n",
    "%reload_ext tensorboard\n",
    "%tensorboard --logdir logs --bind_all\n",
    "\n",
    "!python $uyadwa --share"
   ]
  },
  {
   "cell_type": "markdown",
   "metadata": {
    "id": "ymhGfgFSR17k"
   },
   "source": [
    "## **Credits**\n",
    "- Special thanks to [Hina](https://github.com/hinabl) 💗\n",
    "- [Blaise](https://github.com/blaise-tk) and [Applio Team](https://github.com/IAHispano)"
   ]
  }
 ],
 "metadata": {
  "accelerator": "GPU",
  "colab": {
   "gpuType": "T4",
   "provenance": []
  },
  "kernelspec": {
   "display_name": "Python 3",
   "name": "python3"
  },
  "language_info": {
   "name": "python"
  }
 },
 "nbformat": 4,
 "nbformat_minor": 0
}